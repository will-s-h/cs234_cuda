{
 "cells": [
  {
   "cell_type": "markdown",
   "metadata": {},
   "source": [
    "## Load Dataset"
   ]
  },
  {
   "cell_type": "code",
   "execution_count": 1,
   "metadata": {},
   "outputs": [
    {
     "name": "stdout",
     "output_type": "stream",
     "text": [
      "DatasetDict({\n",
      "    level_1: Dataset({\n",
      "        features: ['Op_Name', 'Level_ID', 'Task_ID', 'Kernel_Name', 'CUDA_Runtime', 'PyTorch_Native_Runtime', 'PyTorch_Compile_Runtime', 'CUDA_Speedup_Native', 'CUDA_Speedup_Compile', 'CUDA_Code', 'PyTorch_Code_Module', 'PyTorch_Code_Functional', 'Correct', 'Max_Diff', 'Error', 'NCU_Profile', 'Torch_Profile', 'Clang_Tidy', '__index_level_0__'],\n",
      "        num_rows: 12157\n",
      "    })\n",
      "    level_2: Dataset({\n",
      "        features: ['Op_Name', 'Level_ID', 'Task_ID', 'Kernel_Name', 'CUDA_Runtime', 'PyTorch_Native_Runtime', 'PyTorch_Compile_Runtime', 'CUDA_Speedup_Native', 'CUDA_Speedup_Compile', 'CUDA_Code', 'PyTorch_Code_Module', 'PyTorch_Code_Functional', 'Correct', 'Max_Diff', 'Error', 'NCU_Profile', 'Torch_Profile', 'Clang_Tidy', '__index_level_0__'],\n",
      "        num_rows: 12938\n",
      "    })\n",
      "    level_3: Dataset({\n",
      "        features: ['Op_Name', 'Level_ID', 'Task_ID', 'Kernel_Name', 'CUDA_Runtime', 'PyTorch_Native_Runtime', 'PyTorch_Compile_Runtime', 'CUDA_Speedup_Native', 'CUDA_Speedup_Compile', 'CUDA_Code', 'PyTorch_Code_Module', 'PyTorch_Code_Functional', 'Correct', 'Max_Diff', 'Error', 'NCU_Profile', 'Torch_Profile', 'Clang_Tidy', '__index_level_0__'],\n",
      "        num_rows: 5520\n",
      "    })\n",
      "})\n"
     ]
    }
   ],
   "source": [
    "from datasets import load_dataset\n",
    "\n",
    "# Specify the dataset name and the cache directory\n",
    "dataset_name = \"SakanaAI/AI-CUDA-Engineer-Archive\"\n",
    "cache_dir = \"./cache_dir\"\n",
    "\n",
    "# Load the dataset\n",
    "dataset = load_dataset(dataset_name, cache_dir=cache_dir)\n",
    "\n",
    "# Print the dataset to verify\n",
    "print(dataset)"
   ]
  },
  {
   "cell_type": "code",
   "execution_count": 2,
   "metadata": {},
   "outputs": [],
   "source": [
    "df_l1 = dataset[\"level_1\"].to_pandas()"
   ]
  },
  {
   "cell_type": "code",
   "execution_count": 4,
   "metadata": {},
   "outputs": [
    {
     "name": "stdout",
     "output_type": "stream",
     "text": [
      "#include <torch/extension.h>\n",
      "\n",
      "#include <cuda.h>\n",
      "#include <cuda_runtime.h>\n",
      "#include <c10/cuda/CUDAException.h>\n",
      "\n",
      "#define TILE_SIZE 16\n",
      "\n",
      "#define CHECK_CUDA(x) TORCH_CHECK(x.is_cuda(), #x \" must be a CUDA tensor\")\n",
      "#define CHECK_CONTIGUOUS(x) TORCH_CHECK(x.is_contiguous(), #x \" must be contiguous\")\n",
      "#define CHECK_INPUT(x) CHECK_CUDA(x); CHECK_CONTIGUOUS(x)\n",
      "#define CHECK_FLOAT(x) TORCH_CHECK(x.scalar_type() == torch::kFloat32, #x \" must be a float32 tensor\")\n",
      "\n",
      "__global__ void matmul_tiled_kernel(const float* __restrict__ A, const float* __restrict__ B, float* __restrict__ C, int N) {\n",
      "    __shared__ float As[TILE_SIZE][TILE_SIZE];\n",
      "    __shared__ float Bs[TILE_SIZE][TILE_SIZE];\n",
      "\n",
      "    int tx = threadIdx.x;\n",
      "    int ty = threadIdx.y;\n",
      "\n",
      "    int row = blockIdx.y * TILE_SIZE + ty;\n",
      "    int col = blockIdx.x * TILE_SIZE + tx;\n",
      "\n",
      "    float C_value = 0.0f;\n",
      "\n",
      "    for (int m = 0; m < (N + TILE_SIZE - 1) / TILE_SIZE; ++m) {\n",
      "        // Load tiles into shared memory\n",
      "        if (row < N && m * TILE_SIZE + tx < N)\n",
      "            As[ty][tx] = A[row * N + m * TILE_SIZE + tx];\n",
      "        else\n",
      "            As[ty][tx] = 0.0f;\n",
      "\n",
      "        if (col < N && m * TILE_SIZE + ty < N)\n",
      "            Bs[ty][tx] = B[(m * TILE_SIZE + ty) * N + col];\n",
      "        else\n",
      "            Bs[ty][tx] = 0.0f;\n",
      "\n",
      "        __syncthreads();\n",
      "\n",
      "        // Compute partial product\n",
      "        for (int k = 0; k < TILE_SIZE; ++k) {\n",
      "            C_value += As[ty][k] * Bs[k][tx];\n",
      "        }\n",
      "\n",
      "        __syncthreads();\n",
      "    }\n",
      "\n",
      "    // Write the result\n",
      "    if (row < N && col < N)\n",
      "        C[row * N + col] = C_value;\n",
      "}\n",
      "\n",
      "torch::Tensor forward(torch::Tensor A, torch::Tensor B) {\n",
      "    CHECK_INPUT(A);\n",
      "    CHECK_INPUT(B);\n",
      "    CHECK_FLOAT(A);\n",
      "    CHECK_FLOAT(B);\n",
      "\n",
      "    TORCH_CHECK(A.dim() == 2 && A.size(0) == A.size(1), \"A must be a square matrix\");\n",
      "    TORCH_CHECK(B.dim() == 2 && B.size(0) == B.size(1), \"B must be a square matrix\");\n",
      "    TORCH_CHECK(A.size(0) == B.size(0), \"A and B must be of the same size\");\n",
      "\n",
      "    int64_t N = A.size(0);\n",
      "\n",
      "    auto C = torch::zeros({N, N}, A.options());\n",
      "\n",
      "    const float* A_data = A.data_ptr<float>();\n",
      "    const float* B_data = B.data_ptr<float>();\n",
      "    float* C_data = C.data_ptr<float>();\n",
      "\n",
      "    dim3 threadsPerBlock(TILE_SIZE, TILE_SIZE);\n",
      "    dim3 blocksPerGrid((N + TILE_SIZE - 1) / TILE_SIZE, (N + TILE_SIZE - 1) / TILE_SIZE);\n",
      "\n",
      "    matmul_tiled_kernel<<<blocksPerGrid, threadsPerBlock>>>(A_data, B_data, C_data, N);\n",
      "\n",
      "    // Check for kernel launch errors\n",
      "    C10_CUDA_CHECK(cudaGetLastError());\n",
      "\n",
      "    return C;\n",
      "}\n",
      "\n",
      "PYBIND11_MODULE(TORCH_EXTENSION_NAME, m) {\n",
      "    m.def(\"forward\", &forward, \"Matrix multiplication kernel (CUDA)\");\n",
      "}\n"
     ]
    }
   ],
   "source": [
    "print(df_l1.iloc[0][[\"CUDA_Code\"]].item())"
   ]
  },
  {
   "cell_type": "code",
   "execution_count": 5,
   "metadata": {},
   "outputs": [
    {
     "name": "stdout",
     "output_type": "stream",
     "text": [
      "import torch\n",
      "import torch.nn as nn\n",
      "import torch.nn.functional as F\n",
      "\n",
      "\n",
      "def module_fn(A: torch.Tensor, B: torch.Tensor) -> torch.Tensor:\n",
      "    \"\"\"\n",
      "    Performs a single square matrix multiplication (C = A * B).\n",
      "\n",
      "    Args:\n",
      "        A (torch.Tensor): Input matrix A of shape (N, N).\n",
      "        B (torch.Tensor): Input matrix B of shape (N, N).\n",
      "\n",
      "    Returns:\n",
      "        torch.Tensor: Output matrix C of shape (N, N).\n",
      "    \"\"\"\n",
      "    return torch.matmul(A, B)\n",
      "\n",
      "\n",
      "class Model(nn.Module):\n",
      "    \"\"\"\n",
      "    Simple model that performs a single square matrix multiplication (C = A * B)\n",
      "    \"\"\"\n",
      "\n",
      "    def __init__(self):\n",
      "        super(Model, self).__init__()\n",
      "\n",
      "    def forward(self, A: torch.Tensor, B: torch.Tensor, fn=module_fn) -> torch.Tensor:\n",
      "        return fn(A, B)\n",
      "\n",
      "\n",
      "N = 2048\n",
      "\n",
      "\n",
      "def get_inputs():\n",
      "    A = torch.randn(N, N)\n",
      "    B = torch.randn(N, N)\n",
      "    return [A, B]\n",
      "\n",
      "\n",
      "def get_init_inputs():\n",
      "    return []  # No special initialization inputs needed\n",
      "\n"
     ]
    }
   ],
   "source": [
    "print(df_l1.iloc[0][[\"PyTorch_Code_Functional\"]].item())"
   ]
  },
  {
   "cell_type": "code",
   "execution_count": null,
   "metadata": {},
   "outputs": [],
   "source": [
    "# Evaluation script for CUDA kernel\n",
    "# 95_CrossEntropyLoss\n",
    "# Evaluation script for CUDA kernel\n",
    "# 12_Matmul_with_diagonal_matrices_\n",
    "import os\n",
    "import torch\n",
    "import argparse\n",
    "from torch.utils.cpp_extension import load\n",
    "from torch.utils._pytree import tree_map\n",
    "import importlib.util\n",
    "from torch.utils.benchmark import Timer\n",
    "\n",
    "\n",
    "def easy_to_device(pytree, device):\n",
    "    return tree_map(\n",
    "        lambda x: x.to(device) if isinstance(x, torch.Tensor) else x, pytree\n",
    "    )\n",
    "\n",
    "\n",
    "def load_module_from_path(path):\n",
    "    spec = importlib.util.spec_from_file_location(\"module\", path)\n",
    "    module = importlib.util.module_from_spec(spec)\n",
    "    spec.loader.exec_module(module)\n",
    "    return module\n",
    "\n",
    "\n",
    "def main():\n",
    "    parser = argparse.ArgumentParser()\n",
    "    parser.add_argument(\"--op_atol\", type=float, default=1e-3)\n",
    "    parser.add_argument(\"--op_rtol\", type=float, default=1e-1)\n",
    "    parser.add_argument(\"--rep_time\", type=int, default=10000)\n",
    "    parser.add_argument(\"--warmup_time\", type=int, default=25)\n",
    "    args = parser.parse_args()\n",
    "\n",
    "    # Get task name from info.txt\n",
    "    with open(\"task/info.txt\", \"r\") as f:\n",
    "        task_name = f.readline().strip()\n",
    "        task_name = \"_\".join(task_name.split(\"_\")[1:])  # Remove problem ID\n",
    "\n",
    "    # Import the task module\n",
    "    task_files = [f for f in os.listdir(\"task\") if f.endswith(\"_functional.py\")]\n",
    "    if not task_files:\n",
    "        raise RuntimeError(\"No functional task file found\")\n",
    "\n",
    "    task = load_module_from_path(os.path.join(\"task\", task_files[0]))\n",
    "\n",
    "    # Initialize model and inputs\n",
    "    device_1 = torch.device(\"cuda:0\")\n",
    "    device_2 = torch.device(\"cuda:1\")\n",
    "    torch.manual_seed(0)\n",
    "    inputs = task.get_inputs()\n",
    "    init_inputs = task.get_init_inputs()\n",
    "    model = task.Model(*init_inputs)\n",
    "\n",
    "    # Load CUDA kernel\n",
    "    kernel_files = [f for f in os.listdir(\"kernel\") if f.endswith(\".cu\")]\n",
    "    if not kernel_files:\n",
    "        raise RuntimeError(\"No CUDA kernel file found\")\n",
    "\n",
    "    cuda_module = load(\n",
    "        name=task_name,\n",
    "        sources=[os.path.join(\"kernel\", kernel_files[0])],\n",
    "        extra_cuda_cflags=[\"-O3\", \"--use_fast_math\"],\n",
    "        with_cuda=True,\n",
    "        verbose=True,\n",
    "    )\n",
    "\n",
    "    # Test for correctness\n",
    "    with torch.no_grad():\n",
    "        cuda_output = model.to(device_1)(\n",
    "            *easy_to_device(inputs, device_1), fn=cuda_module.forward\n",
    "        )\n",
    "        torch_output = model.to(device_2)(\n",
    "            *easy_to_device(inputs, device_2), fn=task.module_fn\n",
    "        )\n",
    "\n",
    "    correct = torch.allclose(\n",
    "        torch_output.cpu(),\n",
    "        cuda_output.cpu(),\n",
    "        rtol=args.op_rtol,\n",
    "        atol=args.op_atol,\n",
    "    )\n",
    "    max_diff = torch.max(torch.abs(torch_output.cpu() - cuda_output.cpu())).item()\n",
    "    print(f\"Tested CUDA kernel - Correct: {correct}, Max Diff: {max_diff}\")\n",
    "\n",
    "    if correct:\n",
    "        # Evaluate CUDA kernel performance\n",
    "        cuda_timer = Timer(\n",
    "            stmt=\"model(*inputs, fn=cuda_module.forward)\",\n",
    "            globals={\n",
    "                \"model\": model.to(device_1),\n",
    "                \"inputs\": easy_to_device(inputs, device_1),\n",
    "                \"cuda_module\": cuda_module,\n",
    "            },\n",
    "        )\n",
    "        cuda_runtime = cuda_timer.timeit(args.rep_time).mean * 1000\n",
    "        print(f\"Evaluated CUDA kernel - Runtime: {cuda_runtime:.3f} ms\")\n",
    "\n",
    "        # Evaluate PyTorch baseline performance\n",
    "        torch_timer = Timer(\n",
    "            stmt=\"model(*inputs, fn=task.module_fn)\",\n",
    "            globals={\n",
    "                \"model\": model.to(device_2),\n",
    "                \"inputs\": easy_to_device(inputs, device_2),\n",
    "                \"task\": task,\n",
    "            },\n",
    "        )\n",
    "        torch_runtime = torch_timer.timeit(args.rep_time).mean * 1000\n",
    "        print(f\"Evaluated PyTorch baseline - Runtime: {torch_runtime:.3f} ms\")\n",
    "\n",
    "        # Evaluate torch compile performance\n",
    "        torch_fn = task.module_fn\n",
    "        compile_fn = torch.compile(torch_fn, mode=\"max-autotune\")\n",
    "        torch_compile_timer = Timer(\n",
    "            stmt=\"model(*inputs, fn=compile_fn)\",\n",
    "            globals={\n",
    "                \"model\": model.to(device_2),\n",
    "                \"inputs\": easy_to_device(inputs, device_2),\n",
    "                \"compile_fn\": compile_fn,\n",
    "            },\n",
    "        )\n",
    "\n",
    "        torch_compile_runtime = torch_compile_timer.timeit(args.rep_time).mean * 1000\n",
    "        print(f\"Evaluated torch compile - Runtime: {torch_compile_runtime:.3f} ms\")\n",
    "\n",
    "        print(f\"Speedup over PyTorch: {torch_runtime/cuda_runtime:.2f}x\")\n",
    "        print(f\"Speedup over torch compile: {torch_compile_runtime/cuda_runtime:.2f}x\")\n",
    "\n",
    "        import json\n",
    "\n",
    "        # Store the speedup times as a json file\n",
    "        file_path = os.path.join(os.path.dirname(__file__), \"speedup_times.json\")\n",
    "        with open(file_path, \"w\") as f:\n",
    "            json.dump(\n",
    "                {\n",
    "                    \"max_diff\": max_diff,\n",
    "                    \"cuda_runtime\": cuda_runtime,\n",
    "                    \"torch_runtime\": torch_runtime,\n",
    "                    \"torch_compile_runtime\": torch_compile_runtime,\n",
    "                    \"speedup_over_pytorch\": torch_runtime / cuda_runtime,\n",
    "                    \"speedup_over_torch_compile\": torch_compile_runtime / cuda_runtime,\n",
    "                },\n",
    "                f,\n",
    "            )\n",
    "        print(f\"Speedup times stored in {file_path}\")\n",
    "\n",
    "\n",
    "if __name__ == \"__main__\":\n",
    "    main()\n"
   ]
  },
  {
   "cell_type": "markdown",
   "metadata": {},
   "source": [
    "## Load Model"
   ]
  },
  {
   "cell_type": "code",
   "execution_count": null,
   "metadata": {},
   "outputs": [
    {
     "data": {
      "application/vnd.jupyter.widget-view+json": {
       "model_id": "a54b85aecba241e69506f54955fc51ab",
       "version_major": 2,
       "version_minor": 0
      },
      "text/plain": [
       "tokenizer_config.json:   0%|          | 0.00/3.07k [00:00<?, ?B/s]"
      ]
     },
     "metadata": {},
     "output_type": "display_data"
    },
    {
     "name": "stderr",
     "output_type": "stream",
     "text": [
      "c:\\Users\\abhiv\\miniconda3\\envs\\cs224n-gpu\\lib\\site-packages\\huggingface_hub\\file_download.py:142: UserWarning: `huggingface_hub` cache-system uses symlinks by default to efficiently store duplicated files but your machine does not support them in C:\\Users\\abhiv\\Documents\\Stanford\\2024\\CS 234\\cs234_cuda\\cache_dir\\models--deepseek-ai--DeepSeek-R1-Distill-Qwen-7B. Caching files will still work but in a degraded version that might require more space on your disk. This warning can be disabled by setting the `HF_HUB_DISABLE_SYMLINKS_WARNING` environment variable. For more details, see https://huggingface.co/docs/huggingface_hub/how-to-cache#limitations.\n",
      "To support symlinks on Windows, you either need to activate Developer Mode or to run Python as an administrator. In order to activate developer mode, see this article: https://docs.microsoft.com/en-us/windows/apps/get-started/enable-your-device-for-development\n",
      "  warnings.warn(message)\n"
     ]
    },
    {
     "data": {
      "application/vnd.jupyter.widget-view+json": {
       "model_id": "2f7cf10e3cd344b8bb7d50ad22afbea6",
       "version_major": 2,
       "version_minor": 0
      },
      "text/plain": [
       "tokenizer.json:   0%|          | 0.00/7.03M [00:00<?, ?B/s]"
      ]
     },
     "metadata": {},
     "output_type": "display_data"
    },
    {
     "name": "stderr",
     "output_type": "stream",
     "text": [
      "Special tokens have been added in the vocabulary, make sure the associated word embeddings are fine-tuned or trained.\n"
     ]
    },
    {
     "data": {
      "application/vnd.jupyter.widget-view+json": {
       "model_id": "347c71dd20b94e4c9a6ead1e0b9e3548",
       "version_major": 2,
       "version_minor": 0
      },
      "text/plain": [
       "config.json:   0%|          | 0.00/680 [00:00<?, ?B/s]"
      ]
     },
     "metadata": {},
     "output_type": "display_data"
    },
    {
     "data": {
      "application/vnd.jupyter.widget-view+json": {
       "model_id": "25702f9ea05640d59fbf4dddbccb12e3",
       "version_major": 2,
       "version_minor": 0
      },
      "text/plain": [
       "model.safetensors.index.json:   0%|          | 0.00/28.1k [00:00<?, ?B/s]"
      ]
     },
     "metadata": {},
     "output_type": "display_data"
    },
    {
     "data": {
      "application/vnd.jupyter.widget-view+json": {
       "model_id": "fbc001f9607c49c386989b41f3eb7cbd",
       "version_major": 2,
       "version_minor": 0
      },
      "text/plain": [
       "Downloading shards:   0%|          | 0/2 [00:00<?, ?it/s]"
      ]
     },
     "metadata": {},
     "output_type": "display_data"
    },
    {
     "data": {
      "application/vnd.jupyter.widget-view+json": {
       "model_id": "9fa3d80de0404523ac6b05ea1521e444",
       "version_major": 2,
       "version_minor": 0
      },
      "text/plain": [
       "model-00001-of-000002.safetensors:   0%|          | 0.00/8.61G [00:00<?, ?B/s]"
      ]
     },
     "metadata": {},
     "output_type": "display_data"
    },
    {
     "data": {
      "application/vnd.jupyter.widget-view+json": {
       "model_id": "ac5b8c71883d44b39a974e3e28f5a4e8",
       "version_major": 2,
       "version_minor": 0
      },
      "text/plain": [
       "model-00002-of-000002.safetensors:   0%|          | 0.00/6.62G [00:00<?, ?B/s]"
      ]
     },
     "metadata": {},
     "output_type": "display_data"
    }
   ],
   "source": [
    "# Load model directly\n",
    "from transformers import AutoTokenizer, AutoModelForCausalLM\n",
    "\n",
    "model_q14 = \"deepseek-ai/DeepSeek-R1-Distill-Qwen-14B\"\n",
    "model_q7 = \"deepseek-ai/DeepSeek-R1-Distill-Qwen-7B\"\n",
    "\n",
    "tokenizer = AutoTokenizer.from_pretrained(model_q7, cache_dir=cache_dir)\n",
    "model = AutoModelForCausalLM.from_pretrained(model_q7, cache_dir=cache_dir)"
   ]
  },
  {
   "cell_type": "code",
   "execution_count": 25,
   "metadata": {},
   "outputs": [],
   "source": [
    "import gc\n",
    "gc.collect()\n",
    "\n",
    "import torch\n",
    "with torch.cuda.device(0):  # explicitly set GPU 0 if needed\n",
    "    torch.cuda.empty_cache()"
   ]
  },
  {
   "cell_type": "code",
   "execution_count": 21,
   "metadata": {},
   "outputs": [],
   "source": [
    "import torch\n",
    "device = torch.device('cuda:0')\n",
    "model = model.to(device)\n",
    "# tokenizer = tokenizer.to(device)"
   ]
  },
  {
   "cell_type": "code",
   "execution_count": 24,
   "metadata": {},
   "outputs": [
    {
     "name": "stderr",
     "output_type": "stream",
     "text": [
      "Setting `pad_token_id` to `eos_token_id`:151643 for open-end generation.\n"
     ]
    },
    {
     "name": "stdout",
     "output_type": "stream",
     "text": [
      "what is the second planet from the Sun? I know the first is Mercury, so the second must be Venus. But wait, is it Venus\n"
     ]
    }
   ],
   "source": [
    "# Define the prompt\n",
    "prompt = \"what is the solution of x^2 - 2x + 1 = 0?\"\n",
    "\n",
    "prompt = \"what is the second planet from the Sun?\"\n",
    "\n",
    "# Tokenize the input prompt\n",
    "inputs = tokenizer(prompt, return_tensors=\"pt\").to(device)\n",
    "\n",
    "# Generate the model's response\n",
    "outputs = model.generate(**inputs)\n",
    "\n",
    "# Decode the generated tokens to get the response\n",
    "response = tokenizer.decode(outputs[0], skip_special_tokens=True)\n",
    "\n",
    "print(response)"
   ]
  },
  {
   "cell_type": "markdown",
   "metadata": {},
   "source": [
    "## TODOs\n",
    "- evaluation stuff\n",
    "- KernelBench method\n",
    "- coding the RL portion"
   ]
  },
  {
   "cell_type": "code",
   "execution_count": null,
   "metadata": {},
   "outputs": [],
   "source": []
  }
 ],
 "metadata": {
  "kernelspec": {
   "display_name": "cs224n-gpu",
   "language": "python",
   "name": "python3"
  },
  "language_info": {
   "codemirror_mode": {
    "name": "ipython",
    "version": 3
   },
   "file_extension": ".py",
   "mimetype": "text/x-python",
   "name": "python",
   "nbconvert_exporter": "python",
   "pygments_lexer": "ipython3",
   "version": "3.10.0"
  }
 },
 "nbformat": 4,
 "nbformat_minor": 2
}
