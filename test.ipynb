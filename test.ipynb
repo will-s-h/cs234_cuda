{
 "cells": [
  {
   "cell_type": "markdown",
   "metadata": {},
   "source": [
    "## Load Dataset"
   ]
  },
  {
   "cell_type": "code",
   "execution_count": 1,
   "metadata": {},
   "outputs": [
    {
     "name": "stderr",
     "output_type": "stream",
     "text": [
      "/lfs/ampere4/0/ayushag/env/micromamba/envs/diff2/lib/python3.10/site-packages/tqdm/auto.py:21: TqdmWarning: IProgress not found. Please update jupyter and ipywidgets. See https://ipywidgets.readthedocs.io/en/stable/user_install.html\n",
      "  from .autonotebook import tqdm as notebook_tqdm\n",
      "Generating level_1 split: 100%|██████████| 12157/12157 [00:00<00:00, 20338.65 examples/s]\n",
      "Generating level_2 split: 100%|██████████| 12938/12938 [00:00<00:00, 19832.11 examples/s]\n",
      "Generating level_3 split: 100%|██████████| 5520/5520 [00:00<00:00, 12356.09 examples/s]\n"
     ]
    },
    {
     "name": "stdout",
     "output_type": "stream",
     "text": [
      "DatasetDict({\n",
      "    level_1: Dataset({\n",
      "        features: ['Op_Name', 'Level_ID', 'Task_ID', 'Kernel_Name', 'CUDA_Runtime', 'PyTorch_Native_Runtime', 'PyTorch_Compile_Runtime', 'CUDA_Speedup_Native', 'CUDA_Speedup_Compile', 'CUDA_Code', 'PyTorch_Code_Module', 'PyTorch_Code_Functional', 'Correct', 'Max_Diff', 'Error', 'NCU_Profile', 'Torch_Profile', 'Clang_Tidy', '__index_level_0__'],\n",
      "        num_rows: 12157\n",
      "    })\n",
      "    level_2: Dataset({\n",
      "        features: ['Op_Name', 'Level_ID', 'Task_ID', 'Kernel_Name', 'CUDA_Runtime', 'PyTorch_Native_Runtime', 'PyTorch_Compile_Runtime', 'CUDA_Speedup_Native', 'CUDA_Speedup_Compile', 'CUDA_Code', 'PyTorch_Code_Module', 'PyTorch_Code_Functional', 'Correct', 'Max_Diff', 'Error', 'NCU_Profile', 'Torch_Profile', 'Clang_Tidy', '__index_level_0__'],\n",
      "        num_rows: 12938\n",
      "    })\n",
      "    level_3: Dataset({\n",
      "        features: ['Op_Name', 'Level_ID', 'Task_ID', 'Kernel_Name', 'CUDA_Runtime', 'PyTorch_Native_Runtime', 'PyTorch_Compile_Runtime', 'CUDA_Speedup_Native', 'CUDA_Speedup_Compile', 'CUDA_Code', 'PyTorch_Code_Module', 'PyTorch_Code_Functional', 'Correct', 'Max_Diff', 'Error', 'NCU_Profile', 'Torch_Profile', 'Clang_Tidy', '__index_level_0__'],\n",
      "        num_rows: 5520\n",
      "    })\n",
      "})\n"
     ]
    }
   ],
   "source": [
    "from datasets import load_dataset\n",
    "\n",
    "# Specify the dataset name and the cache directory\n",
    "dataset_name = \"SakanaAI/AI-CUDA-Engineer-Archive\"\n",
    "cache_dir = \"/dfs/user/ayushag/cs234_cuda/cache\"\n",
    "\n",
    "# Load the dataset\n",
    "dataset = load_dataset(dataset_name, cache_dir=cache_dir)\n",
    "\n",
    "# Print the dataset to verify\n",
    "print(dataset)"
   ]
  },
  {
   "cell_type": "code",
   "execution_count": 2,
   "metadata": {},
   "outputs": [],
   "source": [
    "df_l1 = dataset[\"level_1\"].to_pandas()"
   ]
  },
  {
   "cell_type": "code",
   "execution_count": 7,
   "metadata": {},
   "outputs": [
    {
     "name": "stdout",
     "output_type": "stream",
     "text": [
      "#include <torch/extension.h>\n",
      "\n",
      "#include <cuda.h>\n",
      "#include <cuda_runtime.h>\n",
      "#include <c10/cuda/CUDAException.h>\n",
      "\n",
      "#define TILE_SIZE 16\n",
      "\n",
      "#define CHECK_CUDA(x) TORCH_CHECK(x.is_cuda(), #x \" must be a CUDA tensor\")\n",
      "#define CHECK_CONTIGUOUS(x) TORCH_CHECK(x.is_contiguous(), #x \" must be contiguous\")\n",
      "#define CHECK_INPUT(x) CHECK_CUDA(x); CHECK_CONTIGUOUS(x)\n",
      "#define CHECK_FLOAT(x) TORCH_CHECK(x.scalar_type() == torch::kFloat32, #x \" must be a float32 tensor\")\n",
      "\n",
      "__global__ void matmul_tiled_kernel(const float* __restrict__ A, const float* __restrict__ B, float* __restrict__ C, int N) {\n",
      "    __shared__ float As[TILE_SIZE][TILE_SIZE];\n",
      "    __shared__ float Bs[TILE_SIZE][TILE_SIZE];\n",
      "\n",
      "    int tx = threadIdx.x;\n",
      "    int ty = threadIdx.y;\n",
      "\n",
      "    int row = blockIdx.y * TILE_SIZE + ty;\n",
      "    int col = blockIdx.x * TILE_SIZE + tx;\n",
      "\n",
      "    float C_value = 0.0f;\n",
      "\n",
      "    for (int m = 0; m < (N + TILE_SIZE - 1) / TILE_SIZE; ++m) {\n",
      "        // Load tiles into shared memory\n",
      "        if (row < N && m * TILE_SIZE + tx < N)\n",
      "            As[ty][tx] = A[row * N + m * TILE_SIZE + tx];\n",
      "        else\n",
      "            As[ty][tx] = 0.0f;\n",
      "\n",
      "        if (col < N && m * TILE_SIZE + ty < N)\n",
      "            Bs[ty][tx] = B[(m * TILE_SIZE + ty) * N + col];\n",
      "        else\n",
      "            Bs[ty][tx] = 0.0f;\n",
      "\n",
      "        __syncthreads();\n",
      "\n",
      "        // Compute partial product\n",
      "        for (int k = 0; k < TILE_SIZE; ++k) {\n",
      "            C_value += As[ty][k] * Bs[k][tx];\n",
      "        }\n",
      "\n",
      "        __syncthreads();\n",
      "    }\n",
      "\n",
      "    // Write the result\n",
      "    if (row < N && col < N)\n",
      "        C[row * N + col] = C_value;\n",
      "}\n",
      "\n",
      "torch::Tensor forward(torch::Tensor A, torch::Tensor B) {\n",
      "    CHECK_INPUT(A);\n",
      "    CHECK_INPUT(B);\n",
      "    CHECK_FLOAT(A);\n",
      "    CHECK_FLOAT(B);\n",
      "\n",
      "    TORCH_CHECK(A.dim() == 2 && A.size(0) == A.size(1), \"A must be a square matrix\");\n",
      "    TORCH_CHECK(B.dim() == 2 && B.size(0) == B.size(1), \"B must be a square matrix\");\n",
      "    TORCH_CHECK(A.size(0) == B.size(0), \"A and B must be of the same size\");\n",
      "\n",
      "    int64_t N = A.size(0);\n",
      "\n",
      "    auto C = torch::zeros({N, N}, A.options());\n",
      "\n",
      "    const float* A_data = A.data_ptr<float>();\n",
      "    const float* B_data = B.data_ptr<float>();\n",
      "    float* C_data = C.data_ptr<float>();\n",
      "\n",
      "    dim3 threadsPerBlock(TILE_SIZE, TILE_SIZE);\n",
      "    dim3 blocksPerGrid((N + TILE_SIZE - 1) / TILE_SIZE, (N + TILE_SIZE - 1) / TILE_SIZE);\n",
      "\n",
      "    matmul_tiled_kernel<<<blocksPerGrid, threadsPerBlock>>>(A_data, B_data, C_data, N);\n",
      "\n",
      "    // Check for kernel launch errors\n",
      "    C10_CUDA_CHECK(cudaGetLastError());\n",
      "\n",
      "    return C;\n",
      "}\n",
      "\n",
      "PYBIND11_MODULE(TORCH_EXTENSION_NAME, m) {\n",
      "    m.def(\"forward\", &forward, \"Matrix multiplication kernel (CUDA)\");\n",
      "}\n"
     ]
    }
   ],
   "source": [
    "print(df_l1.iloc[0][[\"CUDA_Code\"]].item())"
   ]
  },
  {
   "cell_type": "code",
   "execution_count": 8,
   "metadata": {},
   "outputs": [
    {
     "name": "stdout",
     "output_type": "stream",
     "text": [
      "import torch\n",
      "import torch.nn as nn\n",
      "import torch.nn.functional as F\n",
      "\n",
      "\n",
      "def module_fn(A: torch.Tensor, B: torch.Tensor) -> torch.Tensor:\n",
      "    \"\"\"\n",
      "    Performs a single square matrix multiplication (C = A * B).\n",
      "\n",
      "    Args:\n",
      "        A (torch.Tensor): Input matrix A of shape (N, N).\n",
      "        B (torch.Tensor): Input matrix B of shape (N, N).\n",
      "\n",
      "    Returns:\n",
      "        torch.Tensor: Output matrix C of shape (N, N).\n",
      "    \"\"\"\n",
      "    return torch.matmul(A, B)\n",
      "\n",
      "\n",
      "class Model(nn.Module):\n",
      "    \"\"\"\n",
      "    Simple model that performs a single square matrix multiplication (C = A * B)\n",
      "    \"\"\"\n",
      "\n",
      "    def __init__(self):\n",
      "        super(Model, self).__init__()\n",
      "\n",
      "    def forward(self, A: torch.Tensor, B: torch.Tensor, fn=module_fn) -> torch.Tensor:\n",
      "        return fn(A, B)\n",
      "\n",
      "\n",
      "N = 2048\n",
      "\n",
      "\n",
      "def get_inputs():\n",
      "    A = torch.randn(N, N)\n",
      "    B = torch.randn(N, N)\n",
      "    return [A, B]\n",
      "\n",
      "\n",
      "def get_init_inputs():\n",
      "    return []  # No special initialization inputs needed\n",
      "\n"
     ]
    }
   ],
   "source": [
    "print(df_l1.iloc[0][[\"PyTorch_Code_Functional\"]].item())"
   ]
  },
  {
   "cell_type": "markdown",
   "metadata": {},
   "source": [
    "## Load Model"
   ]
  },
  {
   "cell_type": "code",
   "execution_count": 14,
   "metadata": {},
   "outputs": [
    {
     "name": "stderr",
     "output_type": "stream",
     "text": [
      "Downloading shards: 100%|██████████| 4/4 [11:51<00:00, 177.89s/it]\n",
      "Loading checkpoint shards: 100%|██████████| 4/4 [00:44<00:00, 11.05s/it]\n"
     ]
    }
   ],
   "source": [
    "# Load model directly\n",
    "from transformers import AutoTokenizer, AutoModelForCausalLM\n",
    "\n",
    "tokenizer = AutoTokenizer.from_pretrained(\"deepseek-ai/DeepSeek-R1-Distill-Qwen-14B\", cache_dir=cache_dir)\n",
    "model = AutoModelForCausalLM.from_pretrained(\"deepseek-ai/DeepSeek-R1-Distill-Qwen-14B\", cache_dir=cache_dir)"
   ]
  },
  {
   "cell_type": "code",
   "execution_count": 25,
   "metadata": {},
   "outputs": [],
   "source": [
    "import gc\n",
    "gc.collect()\n",
    "\n",
    "import torch\n",
    "with torch.cuda.device(0):  # explicitly set GPU 0 if needed\n",
    "    torch.cuda.empty_cache()"
   ]
  },
  {
   "cell_type": "code",
   "execution_count": 21,
   "metadata": {},
   "outputs": [],
   "source": [
    "import torch\n",
    "device = torch.device('cuda:0')\n",
    "model = model.to(device)\n",
    "# tokenizer = tokenizer.to(device)"
   ]
  },
  {
   "cell_type": "code",
   "execution_count": 24,
   "metadata": {},
   "outputs": [
    {
     "name": "stderr",
     "output_type": "stream",
     "text": [
      "Setting `pad_token_id` to `eos_token_id`:151643 for open-end generation.\n"
     ]
    },
    {
     "name": "stdout",
     "output_type": "stream",
     "text": [
      "what is the second planet from the Sun? I know the first is Mercury, so the second must be Venus. But wait, is it Venus\n"
     ]
    }
   ],
   "source": [
    "# Define the prompt\n",
    "prompt = \"what is the solution of x^2 - 2x + 1 = 0?\"\n",
    "\n",
    "prompt = \"what is the second planet from the Sun?\"\n",
    "\n",
    "# Tokenize the input prompt\n",
    "inputs = tokenizer(prompt, return_tensors=\"pt\").to(device)\n",
    "\n",
    "# Generate the model's response\n",
    "outputs = model.generate(**inputs)\n",
    "\n",
    "# Decode the generated tokens to get the response\n",
    "response = tokenizer.decode(outputs[0], skip_special_tokens=True)\n",
    "\n",
    "print(response)"
   ]
  },
  {
   "cell_type": "markdown",
   "metadata": {},
   "source": [
    "## TODOs\n",
    "- evaluation stuff\n",
    "- KernelBench method\n",
    "- coding the RL portion"
   ]
  },
  {
   "cell_type": "code",
   "execution_count": null,
   "metadata": {},
   "outputs": [],
   "source": []
  }
 ],
 "metadata": {
  "kernelspec": {
   "display_name": "Python 3",
   "language": "python",
   "name": "python3"
  },
  "language_info": {
   "codemirror_mode": {
    "name": "ipython",
    "version": 3
   },
   "file_extension": ".py",
   "mimetype": "text/x-python",
   "name": "python",
   "nbconvert_exporter": "python",
   "pygments_lexer": "ipython3",
   "version": "3.10.16"
  }
 },
 "nbformat": 4,
 "nbformat_minor": 2
}
